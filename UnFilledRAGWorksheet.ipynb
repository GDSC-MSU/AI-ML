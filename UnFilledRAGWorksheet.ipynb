{
  "nbformat": 4,
  "nbformat_minor": 0,
  "metadata": {
    "colab": {
      "provenance": []
    },
    "kernelspec": {
      "name": "python3",
      "display_name": "Python 3"
    },
    "language_info": {
      "name": "python"
    }
  },
  "cells": [
    {
      "cell_type": "markdown",
      "source": [
        "# 🧠 Exploring RAG with a Chatbot That Knows Everything (Almost)!\n",
        "\n",
        "Welcome to the world of **Retrieval-Augmented Generation (RAG)**! Today, we’ll learn how LLMs can get **even smarter** by looking things up. 📚💡  \n",
        "Let’s build a chatbot that can pull in knowledge from outside its brain — just like us using Google during a test (but, uh, legally).\n",
        "\n",
        "---\n",
        "\n",
        "## 1. What is RAG?\n",
        "\n",
        "RAG stands for **Retrieval-Augmented Generation**. It’s like giving your chatbot a **superpower** — the ability to look things up before answering! 🦸‍♂️✨\n",
        "\n",
        "Here’s how it works:\n",
        "1. You ask a question 🤔  \n",
        "2. The bot searches a library or document 🗃️  \n",
        "3. It finds the most relevant info 🔍  \n",
        "4. Then it gives you a smart answer based on that info 🧠💬\n",
        "\n",
        "---\n",
        "\n",
        "## 2. Why Use RAG?\n",
        "\n",
        "🔒 **LLMs have limits**: They forget stuff, can’t always access the latest info, and sometimes just make things up (weird, right?).\n",
        "\n",
        "✅ **RAG fixes that**: It lets your bot pull in **real documents**, notes, or web pages — whatever you want.\n",
        "\n",
        "**Example:**  \n",
        "Without RAG: “What are MSU’s dining hours?” → *“Uh… not sure.”*  \n",
        "With RAG: → Searches MSU’s dining website → Gives actual hours!\n",
        "\n",
        "---\n",
        "\n",
        "## 3. What You Need 🧰\n",
        "\n",
        "- 🧠 A Language Model (like Gemini, GPT, etc.)\n",
        "- 📄 A bunch of documents or web content\n",
        "- 🧲 A way to search those docs (we use **embeddings** + a **vector database**)\n",
        "- 🧪 A little Python magic (and curiosity)\n",
        "\n",
        "---\n",
        "\n",
        "## 4. Let’s Build It! ⚙️\n",
        "\n",
        "You may need to clear your variables during testing!"
      ],
      "metadata": {
        "id": "-pXb8R6jVROB"
      }
    },
    {
      "cell_type": "code",
      "source": [
        "%reset -f"
      ],
      "metadata": {
        "id": "pgdP_lM1CJCa"
      },
      "execution_count": null,
      "outputs": []
    },
    {
      "cell_type": "markdown",
      "source": [
        "\n",
        "### Step 1: Install Your Tools"
      ],
      "metadata": {
        "id": "Vxkg8pi5CIrP"
      }
    },
    {
      "cell_type": "code",
      "execution_count": null,
      "metadata": {
        "id": "vwDD0_jUGFlc"
      },
      "outputs": [],
      "source": [
        "!pip install --quiet --upgrade langchain-text-splitters langchain-community langgraph\n",
        "!pip install -qU langchain-huggingface\n",
        "!pip install -qU langchain-core\n",
        "!pip install --quiet wikipedia\n",
        "!pip install --quiet google-generativeai"
      ]
    },
    {
      "cell_type": "markdown",
      "source": [
        "### Step 2: Set Up the Chatbot\n",
        "Now, let's configure our chatbot to use the Google Gemini API."
      ],
      "metadata": {
        "id": "e7zr0AbsXL_v"
      }
    },
    {
      "cell_type": "code",
      "source": [
        "import google.generativeai as genai\n",
        "\n",
        "# Configure the Gemini API client with your API key\n",
        "# --> Finish the code here\n",
        "genai.configure(api_key=\"INSERT YOUR API KEY HERE\")\n",
        "\n",
        "# Define the system instruction to guide the model's response\n",
        "# --> Finish the code here\n",
        "response_system_instruction = (\n",
        "    \"You are an intelligent assistant designed to answer questions using both your general knowledge and additional context provided to you.\"\n",
        "    \"TELL THE MODEL THAT YOU WILL BE PROVIDING IT ADDITIONAL CONTEXT\"\n",
        "    \"Use the provided context as your primary source of truth when answering. If the context does not contain the necessary information, respond based on your general knowledge, and clearly indicate when you are doing so. Do not fabricate facts.\"\n",
        "    \"Be concise, accurate, and helpful.\"\n",
        ")\n",
        "\n",
        "# Initialize the Gemini model\n",
        "llm = # --> Finish the code here"
      ],
      "metadata": {
        "id": "QngvjPTNGRwj"
      },
      "execution_count": null,
      "outputs": []
    },
    {
      "cell_type": "markdown",
      "source": [
        "### Step 3: Set Up the Embedding Model\n",
        "\n",
        "We will make use of a free embedding model from Hugging Face."
      ],
      "metadata": {
        "id": "2YNsEGhMYWp2"
      }
    },
    {
      "cell_type": "code",
      "source": [
        "from langchain_huggingface import HuggingFaceEmbeddings\n",
        "\n",
        "# Load the embedding model\n",
        "embedding_model = # --> Finish the code here"
      ],
      "metadata": {
        "id": "c69SwTYzHkVK"
      },
      "execution_count": null,
      "outputs": []
    },
    {
      "cell_type": "markdown",
      "source": [
        "### Step 4: Load the relevant documents\n",
        "\n",
        "We will create a list of topics we want our model to learn about. The model will store context from Wikipedia's search result and answer questions with the learned context."
      ],
      "metadata": {
        "id": "jNmL49m50xGW"
      }
    },
    {
      "cell_type": "code",
      "source": [
        "import wikipedia\n",
        "from langchain.schema import Document\n",
        "\n",
        "# Topics to load from Wikipedia\n",
        "TOPICS = [] # --> Finish the code here (A list of strings of topics you want the AI to know)\n",
        "\n",
        "# Load Wikipedia Articles\n",
        "wiki_docs = []\n",
        "for topic in TOPICS:\n",
        "    try:\n",
        "        # content = wikipedia.page(topic).content\n",
        "        content = wikipedia.summary(topic,sentences=50)\n",
        "        doc = Document(page_content=content, metadata={\"source\": f\"Wikipedia: {topic}\"})\n",
        "        wiki_docs.append(doc)\n",
        "        print(f\"✅ Loaded Wikipedia article: {topic} ({len(content)} characters)\")\n",
        "    except wikipedia.exceptions.DisambiguationError as e:\n",
        "        print(f\"⚠️ Disambiguation error for '{topic}': {e.options[:3]}\")\n",
        "    except wikipedia.exceptions.PageError:\n",
        "        print(f\"❌ Page not found for '{topic}'.\")\n",
        "\n",
        "all_docs = wiki_docs"
      ],
      "metadata": {
        "id": "gphvBV2JSNBL"
      },
      "execution_count": null,
      "outputs": []
    },
    {
      "cell_type": "markdown",
      "source": [
        "### Step 5: Set Up the Text Splitter\n",
        "\n",
        "We need to slice our context into a more practical size. This makes it more token efficient, and also ensures that only the most relevant context is fetched."
      ],
      "metadata": {
        "id": "pTEktq1Kdiwy"
      }
    },
    {
      "cell_type": "code",
      "source": [
        "from langchain_text_splitters import RecursiveCharacterTextSplitter\n",
        "\n",
        "text_splitter = # --> Finish the code here\n",
        "\n",
        "all_splits = # --> Finish the code here\n",
        "print(f\"🧩 Split into {len(all_splits)} chunks.\")"
      ],
      "metadata": {
        "id": "lnPpH_mtSY9y"
      },
      "execution_count": null,
      "outputs": []
    },
    {
      "cell_type": "markdown",
      "source": [
        "### Step 6: Set Up the Memory Store\n",
        "\n",
        "We will make use of an in-memory store to keep things simple. In practice, you would want to use a database (I prefer Chroma DB for this)."
      ],
      "metadata": {
        "id": "f_MCRKMVYue0"
      }
    },
    {
      "cell_type": "code",
      "source": [
        "from langchain_core.vectorstores import InMemoryVectorStore\n",
        "\n",
        "vector_store = # --> Finish the code here\n",
        "print(f\"✅ Vector store created with {len(all_docs)} documents.\")"
      ],
      "metadata": {
        "id": "MyEklEJQSo6d"
      },
      "execution_count": null,
      "outputs": []
    },
    {
      "cell_type": "markdown",
      "source": [
        "### Step 7: Set Up the Retrieval and the Generation\n",
        "\n",
        "These functions will actually handle the retrieval of the context from our data store, and the use of it to assist in generating relevant output. We want to ensure we only retrieve context if it is relevant, so we will throw out irrelevant context."
      ],
      "metadata": {
        "id": "lOIctUhtA9WD"
      }
    },
    {
      "cell_type": "code",
      "source": [
        "def retrieval(user_input: str, threshold: float = 0.5) -> tuple[str, list]:\n",
        "    try:\n",
        "        # Try to get documents with similarity scores (if supported)\n",
        "        results = # --> Finish the code here\n",
        "\n",
        "        # Filter by relevance threshold\n",
        "        filtered_docs = [doc for doc, score in results if score >= threshold]\n",
        "\n",
        "    except AttributeError:\n",
        "        # If .similarity_search_with_score() is not supported, fallback\n",
        "        filtered_docs = vector_store.similarity_search(user_input, k=4)\n",
        "\n",
        "    if not filtered_docs:\n",
        "        return \"No relevant documents found.\", []\n",
        "\n",
        "    # Format context with source metadata\n",
        "    context_chunks = []\n",
        "    for i, doc in enumerate(filtered_docs, start=1):\n",
        "        source = doc.metadata.get(\"source\", f\"Document {i}\")\n",
        "        context_chunks.append(f\"[{source}]\\n{doc.page_content.strip()}\")\n",
        "\n",
        "    context = \"\\n\\n\".join(context_chunks)\n",
        "    return context, filtered_docs\n",
        "\n",
        "\n",
        "def generation(user_input: str, context: str) -> str:\n",
        "    # Invoke the LangChain Hub prompt (it will use the context + question)\n",
        "    prompt_value = # --> Finish the code here\n",
        "    full_prompt = prompt_value.to_string()\n",
        "\n",
        "    # Generate response using Gemini\n",
        "    response = llm.generate_content(full_prompt)\n",
        "    return response"
      ],
      "metadata": {
        "id": "S41749NbA84I"
      },
      "execution_count": null,
      "outputs": []
    },
    {
      "cell_type": "markdown",
      "source": [
        "### Step 8:\n",
        "\n",
        "Test out your RAG chatbot!"
      ],
      "metadata": {
        "id": "SKdLuUqxEwzf"
      }
    },
    {
      "cell_type": "code",
      "source": [
        "from langchain import hub\n",
        "\n",
        "# Load RAG prompt from LangChain Hub\n",
        "prompt = # --> Finish the code here\n",
        "\n",
        "print(\"💬 Ask me anything! (type 'exit' to quit)\")\n",
        "\n",
        "while True:\n",
        "    user_input = input(\"\\nYou: \")\n",
        "    if user_input.lower() in {\"exit\", \"quit\"}:\n",
        "        print(\"👋 Goodbye!\")\n",
        "        break\n",
        "\n",
        "    context, docs = # --> Finish the code here\n",
        "    response = # --> Finish the code here\n",
        "\n",
        "    # Print response\n",
        "    print(f\"\\n🤖: {response.text.strip()}\\n\")\n",
        "\n",
        "\n",
        "    # Print source list\n",
        "    print(\"\\n📚 Sources Used:\")\n",
        "    for i, doc in enumerate(docs, start=1):\n",
        "        print(f\"{i}. {doc.metadata.get('source', 'Unknown')}\")\n"
      ],
      "metadata": {
        "id": "WV9ESentS_zn"
      },
      "execution_count": null,
      "outputs": []
    },
    {
      "cell_type": "markdown",
      "source": [
        "## 🎲 Section 5: Fun Activity – RAG Roleplay! 🎭🧠\n",
        "\n",
        "Let’s play RAG in real life! You and a partner will act out the two roles in a Retrieval-Augmented Generation system:\n",
        "\n",
        "### 👤 Person A: The Retriever\n",
        "You’re the vector store. You hold the documents (Wikipedia, notes, etc.).  \n",
        "When Person B asks a question, you:\n",
        "1. Search your “mental documents”\n",
        "2. Choose 2–3 facts that best answer the question\n",
        "3. Share those facts as “context”\n",
        "\n",
        "### 🤖 Person B: The Generator (a chatbot)\n",
        "You get only what the retriever gives you — no peeking at outside info!\n",
        "Use the context to answer the question clearly in 2–3 sentences.\n",
        "\n",
        "---\n",
        "\n",
        "**Example:**\n",
        "\n",
        "- **Question:** What is the Doppler Effect?\n",
        "- **Context from A:**  \n",
        "  1. The Doppler Effect explains the change in frequency of waves based on motion.  \n",
        "  2. It happens with sound, light, or other waves when the source or observer moves.  \n",
        "  3. It’s why ambulance sirens change pitch as they pass by.\n",
        "\n",
        "- **Answer from B:**  \n",
        "  The Doppler Effect is the change in frequency of waves when the source or observer moves. That’s why a siren sounds different as it gets closer and then farther away.\n",
        "\n",
        "---\n",
        "\n",
        "Now switch roles and try with new questions! ✨  \n",
        "Try: *What causes seasons?* or *Who was Nikola Tesla?*"
      ],
      "metadata": {
        "id": "ryfNg0Yt72Oz"
      }
    },
    {
      "cell_type": "markdown",
      "source": [
        "## 🎉 Section 6: Wrapping Up – You Built a Smarter Bot!\n",
        "\n",
        "Amazing work! Today, you explored how to give a chatbot superpowers using Retrieval-Augmented Generation (RAG).  \n",
        "Let’s reflect on what you’ve accomplished:\n",
        "\n",
        "✅ You learned how LLMs generate answers  \n",
        "✅ You explored their limitations and how RAG helps  \n",
        "✅ You loaded real documents into a vector store  \n",
        "✅ You retrieved relevant context and generated responses  \n",
        "✅ You even roleplayed a mini RAG system yourself!\n",
        "\n",
        "---\n",
        "\n",
        "Now you’re ready to:\n",
        "\n",
        "- Build a bot that reads your study notes 🧠  \n",
        "- Create a travel helper that reads blogs ✈️  \n",
        "- Build a chatbot for your school or club 🏫  \n",
        "\n",
        "The possibilities are endless when you give your chatbot access to the right info.\n",
        "\n",
        "🛠️ Try customizing:\n",
        "- What documents it uses\n",
        "- How it responds (serious, funny, formal)\n",
        "- What it’s an expert in\n",
        "\n",
        "💡 Bonus idea: Combine RAG with a voice assistant or GUI using Streamlit or Gradio!\n",
        "\n",
        "🚀 Go build something cool — and don't forget to share it!\n"
      ],
      "metadata": {
        "id": "gW5DVPm_Fi80"
      }
    }
  ]
}